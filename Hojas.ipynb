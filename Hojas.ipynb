{
  "cells": [
    {
      "cell_type": "code",
      "execution_count": 1,
      "metadata": {},
      "outputs": [
        {
          "name": "stdout",
          "output_type": "stream",
          "text": [
            "Requirement already satisfied: gspread in c:\\users\\lenovo\\documents\\googleshets\\venv\\lib\\site-packages (6.1.3)\n",
            "Requirement already satisfied: pandas in c:\\users\\lenovo\\documents\\googleshets\\venv\\lib\\site-packages (2.2.3)\n",
            "Requirement already satisfied: google-auth in c:\\users\\lenovo\\documents\\googleshets\\venv\\lib\\site-packages (2.35.0)\n",
            "Requirement already satisfied: google-auth-oauthlib>=0.4.1 in c:\\users\\lenovo\\documents\\googleshets\\venv\\lib\\site-packages (from gspread) (1.2.1)\n",
            "Requirement already satisfied: numpy>=1.23.2 in c:\\users\\lenovo\\documents\\googleshets\\venv\\lib\\site-packages (from pandas) (2.1.2)\n",
            "Requirement already satisfied: python-dateutil>=2.8.2 in c:\\users\\lenovo\\documents\\googleshets\\venv\\lib\\site-packages (from pandas) (2.9.0.post0)\n",
            "Requirement already satisfied: pytz>=2020.1 in c:\\users\\lenovo\\documents\\googleshets\\venv\\lib\\site-packages (from pandas) (2024.2)\n",
            "Requirement already satisfied: tzdata>=2022.7 in c:\\users\\lenovo\\documents\\googleshets\\venv\\lib\\site-packages (from pandas) (2024.2)\n",
            "Requirement already satisfied: cachetools<6.0,>=2.0.0 in c:\\users\\lenovo\\documents\\googleshets\\venv\\lib\\site-packages (from google-auth) (5.5.0)\n",
            "Requirement already satisfied: pyasn1-modules>=0.2.1 in c:\\users\\lenovo\\documents\\googleshets\\venv\\lib\\site-packages (from google-auth) (0.4.1)\n",
            "Requirement already satisfied: rsa<5,>=3.1.4 in c:\\users\\lenovo\\documents\\googleshets\\venv\\lib\\site-packages (from google-auth) (4.9)\n",
            "Requirement already satisfied: requests-oauthlib>=0.7.0 in c:\\users\\lenovo\\documents\\googleshets\\venv\\lib\\site-packages (from google-auth-oauthlib>=0.4.1->gspread) (2.0.0)\n",
            "Requirement already satisfied: pyasn1<0.7.0,>=0.4.6 in c:\\users\\lenovo\\documents\\googleshets\\venv\\lib\\site-packages (from pyasn1-modules>=0.2.1->google-auth) (0.6.1)\n",
            "Requirement already satisfied: six>=1.5 in c:\\users\\lenovo\\documents\\googleshets\\venv\\lib\\site-packages (from python-dateutil>=2.8.2->pandas) (1.16.0)\n",
            "Requirement already satisfied: oauthlib>=3.0.0 in c:\\users\\lenovo\\documents\\googleshets\\venv\\lib\\site-packages (from requests-oauthlib>=0.7.0->google-auth-oauthlib>=0.4.1->gspread) (3.2.2)\n",
            "Requirement already satisfied: requests>=2.0.0 in c:\\users\\lenovo\\documents\\googleshets\\venv\\lib\\site-packages (from requests-oauthlib>=0.7.0->google-auth-oauthlib>=0.4.1->gspread) (2.32.3)\n",
            "Requirement already satisfied: charset-normalizer<4,>=2 in c:\\users\\lenovo\\documents\\googleshets\\venv\\lib\\site-packages (from requests>=2.0.0->requests-oauthlib>=0.7.0->google-auth-oauthlib>=0.4.1->gspread) (3.4.0)\n",
            "Requirement already satisfied: idna<4,>=2.5 in c:\\users\\lenovo\\documents\\googleshets\\venv\\lib\\site-packages (from requests>=2.0.0->requests-oauthlib>=0.7.0->google-auth-oauthlib>=0.4.1->gspread) (3.10)\n",
            "Requirement already satisfied: urllib3<3,>=1.21.1 in c:\\users\\lenovo\\documents\\googleshets\\venv\\lib\\site-packages (from requests>=2.0.0->requests-oauthlib>=0.7.0->google-auth-oauthlib>=0.4.1->gspread) (2.2.3)\n",
            "Requirement already satisfied: certifi>=2017.4.17 in c:\\users\\lenovo\\documents\\googleshets\\venv\\lib\\site-packages (from requests>=2.0.0->requests-oauthlib>=0.7.0->google-auth-oauthlib>=0.4.1->gspread) (2024.8.30)\n",
            "Note: you may need to restart the kernel to use updated packages.\n"
          ]
        }
      ],
      "source": [
        "%pip install gspread pandas google-auth"
      ]
    },
    {
      "cell_type": "code",
      "execution_count": 2,
      "metadata": {
        "id": "DXOBSh2OJ2j9"
      },
      "outputs": [
        {
          "name": "stdout",
          "output_type": "stream",
          "text": [
            "      Nombre  Salario Mensual Fecha de Contratación\n",
            "0       Juan            17151            2019-08-02\n",
            "1        Ana            35945            2019-04-21\n",
            "2      Pedro            37109            2024-05-31\n",
            "3      Luisa            16776            2019-06-08\n",
            "4     Carlos            49393            2016-04-05\n",
            "5      Marta            43474            2020-05-30\n",
            "6     Javier            27722            2015-10-25\n",
            "7      Sofia            34916            2017-04-13\n",
            "8      Diego            46925            2020-11-04\n",
            "9      Laura            18352            2019-04-24\n",
            "10   Alberto            15205            2017-09-16\n",
            "11    Carmen            20096            2017-04-06\n",
            "12    Daniel            29359            2019-03-30\n",
            "13     Maria            26961            2024-07-20\n",
            "14  Fernando            30177            2019-08-17\n",
            "15  Patricia            27400            2021-08-26\n",
            "16      Raul            46996            2014-11-28\n",
            "17  Gabriela            36593            2018-11-03\n",
            "18      Luis            49000            2018-05-27\n",
            "19     Paola            46086            2017-01-09\n"
          ]
        }
      ],
      "source": [
        "import gspread\n",
        "from google.oauth2 import service_account as sa\n",
        "import pandas as pd\n",
        "from datetime import datetime\n",
        "\n",
        "\n",
        "scopes = [\n",
        "    'https://www.googleapis.com/auth/spreadsheets',\n",
        "    'https://www.googleapis.com/auth/drive'\n",
        "]\n",
        "\n",
        "#Establezco los alcances de la API de Google Sheets y Google Drive para poder obtener acceso\n",
        "# a la hoja de cálculo de Google Sheets.\n",
        "KEY = 'key.json'\n",
        "#Llave de autenticación de Google Cloud Platform que sera proporcionada mediante zip\n",
        "#ya que me revoca los permisos si google nota se hace publico el archivo\n",
        "\n",
        "ID = '1p8l7NPbFjC9QV9WkPpR4LrRpem8v--DmimETEQbyS-M'\n",
        "#ID de la hoja de cálculo de Google Sheets con link\n",
        "#https://docs.google.com/spreadsheets/d/1p8l7NPbFjC9QV9WkPpR4LrRpem8v--DmimETEQbyS-M/edit?gid=0#gid=0\n",
        "\n",
        "\n",
        "credenciales  = sa.Credentials.from_service_account_file(KEY, scopes=scopes)\n",
        "\n",
        "cliente = gspread.authorize(credenciales)\n",
        "\n",
        "hoja = cliente.open_by_key(ID).sheet1\n",
        "#Abro la hoja de cálculo de Google Sheets con el ID proporcionado y selecciono la primera hoja\n",
        "#previamente creada con datos fictisios de empleados\n",
        "\n",
        "\n",
        "\n",
        "df = pd.DataFrame(hoja.get_all_records())\n",
        "print(df)\n",
        "#visualizo la hoja de cálculo en un DataFrame de Pandas"
      ]
    },
    {
      "cell_type": "code",
      "execution_count": 3,
      "metadata": {
        "collapsed": true,
        "id": "zLeHOKLYb4d3"
      },
      "outputs": [],
      "source": [
        "df['Fecha de Contratación'] = pd.to_datetime(df['Fecha de Contratación'])\n",
        "today = datetime.now().date()\n",
        "#Convierto la columna de Fecha de Contratación a un objeto de fecha y obtengo la fecha actual\n",
        "#para poder realizar operaciones con fechas\n",
        "\n",
        "df['Años en la Empresa'] = df['Fecha de Contratación'].apply(lambda x: today.year - x.year)"
      ]
    },
    {
      "cell_type": "code",
      "execution_count": 4,
      "metadata": {
        "colab": {
          "base_uri": "https://localhost:8080/",
          "height": 676
        },
        "id": "erzB3EPzLW1g",
        "outputId": "093a8bf1-2110-4b70-c1e7-33df44ffdce3"
      },
      "outputs": [
        {
          "name": "stdout",
          "output_type": "stream",
          "text": [
            "      Nombre  Salario Mensual  Salario Anual  Años en la Empresa\n",
            "0       Juan            17151         205812                   5\n",
            "1        Ana            35945         431340                   5\n",
            "2      Pedro            37109         445308                   0\n",
            "3      Luisa            16776         201312                   5\n",
            "4     Carlos            49393         592716                   8\n",
            "5      Marta            43474         521688                   4\n",
            "6     Javier            27722         332664                   9\n",
            "7      Sofia            34916         418992                   7\n",
            "8      Diego            46925         563100                   4\n",
            "9      Laura            18352         220224                   5\n",
            "10   Alberto            15205         182460                   7\n",
            "11    Carmen            20096         241152                   7\n",
            "12    Daniel            29359         352308                   5\n",
            "13     Maria            26961         323532                   0\n",
            "14  Fernando            30177         362124                   5\n",
            "15  Patricia            27400         328800                   3\n",
            "16      Raul            46996         563952                  10\n",
            "17  Gabriela            36593         439116                   6\n",
            "18      Luis            49000         588000                   6\n",
            "19     Paola            46086         553032                   7\n"
          ]
        }
      ],
      "source": [
        "df['Salario Anual'] = df['Salario Mensual'] * 12\n",
        "reporte = df[['Nombre', 'Salario Mensual', 'Salario Anual', 'Años en la Empresa']]\n",
        "print(reporte)\n",
        "#defino las columnas a filtrar y visualizo el reporte de salarios anuales de los empleados\n"
      ]
    },
    {
      "cell_type": "code",
      "execution_count": 5,
      "metadata": {
        "colab": {
          "base_uri": "https://localhost:8080/"
        },
        "id": "-kdMDHOlTYUP",
        "outputId": "46f01635-9fe1-4cbb-d18c-a35c3dc04d9c"
      },
      "outputs": [
        {
          "data": {
            "text/plain": [
              "{'spreadsheetId': '1p8l7NPbFjC9QV9WkPpR4LrRpem8v--DmimETEQbyS-M',\n",
              " 'updatedRange': \"'Reporte Salarios'!A1:D21\",\n",
              " 'updatedRows': 21,\n",
              " 'updatedColumns': 4,\n",
              " 'updatedCells': 84}"
            ]
          },
          "execution_count": 5,
          "metadata": {},
          "output_type": "execute_result"
        }
      ],
      "source": [
        "reporte_salarios = cliente.open_by_key(ID).add_worksheet('Reporte Salarios', rows=len(reporte), cols=len(reporte.columns))\n",
        "reporte_salarios.update([reporte.columns.values.tolist()] + reporte.values.tolist())\n",
        "#actualizo la hoja de cálculo con el reporte de salarios anuales de los empleados"
      ]
    }
  ],
  "metadata": {
    "colab": {
      "provenance": []
    },
    "kernelspec": {
      "display_name": "venv",
      "language": "python",
      "name": "python3"
    },
    "language_info": {
      "codemirror_mode": {
        "name": "ipython",
        "version": 3
      },
      "file_extension": ".py",
      "mimetype": "text/x-python",
      "name": "python",
      "nbconvert_exporter": "python",
      "pygments_lexer": "ipython3",
      "version": "3.11.7"
    }
  },
  "nbformat": 4,
  "nbformat_minor": 0
}
